{
  "cells": [
    {
      "cell_type": "markdown",
      "metadata": {
        "id": "view-in-github",
        "colab_type": "text"
      },
      "source": [
        "<a href=\"https://colab.research.google.com/github/waleedsf/Google-Store-Apps/blob/main/Play_store_DS.ipynb\" target=\"_parent\"><img src=\"https://colab.research.google.com/assets/colab-badge.svg\" alt=\"Open In Colab\"/></a>"
      ]
    },
    {
      "cell_type": "markdown",
      "metadata": {
        "id": "lFvr6hRFjsUy"
      },
      "source": [
        "## <center> Project:- Analyzing Google Play Store Apps\n",
        "</center>\n",
        "\n",
        "\n",
        "\n",
        "## Introduction\n",
        "> This data is web scraped data of 10k Play Store apps around Aug 2018 for analysing the Android market, i will be performing some analysis and visualizations for answering relevant questions.\n",
        "\n",
        ">The data can be found here [data](https://www.kaggle.com/datasets/lava18/google-play-store-apps?select=googleplaystore.csv)\n",
        "\n",
        "## Business Understanding\n",
        "\n",
        "1. What are the apps categories available in the store?\n",
        "2. what are highest categorie gets downloaded and ratings?\n",
        "3. Are people tend to review more within the years?\n",
        "4. Does the apps getting more sizes within the years?\n"
      ]
    },
    {
      "cell_type": "markdown",
      "metadata": {
        "id": "maA_75iLjsUz"
      },
      "source": [
        "\n",
        "> ## Data Understanding\n",
        "\n",
        "Each app (row) has the following values:\n",
        "\n",
        "- App : App name\n",
        "- Category : Category the app belongs to\n",
        "- Rating : Overall user rating of the app (as when scraped)\n",
        "- Reviews : Number of user reviews for the app (as when scraped)\n",
        "- Size : Size of the app (as when scraped)\n",
        "- Installs : Number of user downloads/installs for the app (as when scraped)\n",
        "- Type : Paid or Free\n",
        "- Price : Price of the app (as when scraped)\n",
        "- Content Rating : Age group the app is targeted at - Children / Mature 21+ / Adult\n",
        "- Genres:An app can belong to multiple genres (apart from its main category). For eg, a musical family game will belong to"
      ]
    },
    {
      "cell_type": "code",
      "execution_count": null,
      "metadata": {
        "id": "bzDwmKgbjsU0"
      },
      "outputs": [],
      "source": [
        "# import all packages and set plots to be embedded inline\n",
        "import numpy as np\n",
        "import pandas as pd\n",
        "import matplotlib.pyplot as plt\n",
        "import seaborn as sns\n",
        "import datetime\n",
        "\n",
        "%matplotlib inline"
      ]
    },
    {
      "cell_type": "code",
      "execution_count": null,
      "metadata": {
        "id": "zmB3CZJqjsU0",
        "outputId": "82a93dc1-0656-4362-a1e8-20c2481f6ae6"
      },
      "outputs": [
        {
          "data": {
            "text/html": [
              "<div>\n",
              "<style scoped>\n",
              "    .dataframe tbody tr th:only-of-type {\n",
              "        vertical-align: middle;\n",
              "    }\n",
              "\n",
              "    .dataframe tbody tr th {\n",
              "        vertical-align: top;\n",
              "    }\n",
              "\n",
              "    .dataframe thead th {\n",
              "        text-align: right;\n",
              "    }\n",
              "</style>\n",
              "<table border=\"1\" class=\"dataframe\">\n",
              "  <thead>\n",
              "    <tr style=\"text-align: right;\">\n",
              "      <th></th>\n",
              "      <th>App</th>\n",
              "      <th>Category</th>\n",
              "      <th>Rating</th>\n",
              "      <th>Reviews</th>\n",
              "      <th>Size</th>\n",
              "      <th>Installs</th>\n",
              "      <th>Type</th>\n",
              "      <th>Price</th>\n",
              "      <th>Content Rating</th>\n",
              "      <th>Genres</th>\n",
              "      <th>Last Updated</th>\n",
              "      <th>Current Ver</th>\n",
              "      <th>Android Ver</th>\n",
              "    </tr>\n",
              "  </thead>\n",
              "  <tbody>\n",
              "    <tr>\n",
              "      <th>8131</th>\n",
              "      <td>CZ File Manager</td>\n",
              "      <td>TOOLS</td>\n",
              "      <td>2.2</td>\n",
              "      <td>876</td>\n",
              "      <td>8.7M</td>\n",
              "      <td>1,000,000+</td>\n",
              "      <td>Free</td>\n",
              "      <td>0</td>\n",
              "      <td>Everyone</td>\n",
              "      <td>Tools</td>\n",
              "      <td>August 6, 2018</td>\n",
              "      <td>3.2.3</td>\n",
              "      <td>4.2 and up</td>\n",
              "    </tr>\n",
              "    <tr>\n",
              "      <th>6458</th>\n",
              "      <td>bm Wallet</td>\n",
              "      <td>FINANCE</td>\n",
              "      <td>3.5</td>\n",
              "      <td>196</td>\n",
              "      <td>27M</td>\n",
              "      <td>10,000+</td>\n",
              "      <td>Free</td>\n",
              "      <td>0</td>\n",
              "      <td>Everyone</td>\n",
              "      <td>Finance</td>\n",
              "      <td>August 20, 2017</td>\n",
              "      <td>1.8</td>\n",
              "      <td>4.1 and up</td>\n",
              "    </tr>\n",
              "    <tr>\n",
              "      <th>3488</th>\n",
              "      <td>My Airtel-Online Recharge, Pay Bill, Wallet, UPI</td>\n",
              "      <td>PRODUCTIVITY</td>\n",
              "      <td>4.3</td>\n",
              "      <td>1498393</td>\n",
              "      <td>14M</td>\n",
              "      <td>50,000,000+</td>\n",
              "      <td>Free</td>\n",
              "      <td>0</td>\n",
              "      <td>Everyone</td>\n",
              "      <td>Productivity</td>\n",
              "      <td>August 2, 2018</td>\n",
              "      <td>4.3.2.0</td>\n",
              "      <td>4.2 and up</td>\n",
              "    </tr>\n",
              "    <tr>\n",
              "      <th>7090</th>\n",
              "      <td>CA Clarity Mobile Time Manager</td>\n",
              "      <td>BUSINESS</td>\n",
              "      <td>3.1</td>\n",
              "      <td>104</td>\n",
              "      <td>5.3M</td>\n",
              "      <td>10,000+</td>\n",
              "      <td>Free</td>\n",
              "      <td>0</td>\n",
              "      <td>Everyone</td>\n",
              "      <td>Business</td>\n",
              "      <td>May 14, 2015</td>\n",
              "      <td>2.0</td>\n",
              "      <td>2.2 and up</td>\n",
              "    </tr>\n",
              "    <tr>\n",
              "      <th>10434</th>\n",
              "      <td>Talking Husky Dog</td>\n",
              "      <td>FAMILY</td>\n",
              "      <td>4.4</td>\n",
              "      <td>26545</td>\n",
              "      <td>40M</td>\n",
              "      <td>1,000,000+</td>\n",
              "      <td>Free</td>\n",
              "      <td>0</td>\n",
              "      <td>Everyone</td>\n",
              "      <td>Casual</td>\n",
              "      <td>July 20, 2018</td>\n",
              "      <td>2.08</td>\n",
              "      <td>4.1 and up</td>\n",
              "    </tr>\n",
              "  </tbody>\n",
              "</table>\n",
              "</div>"
            ],
            "text/plain": [
              "                                                    App      Category  Rating  \\\n",
              "8131                                    CZ File Manager         TOOLS     2.2   \n",
              "6458                                          bm Wallet       FINANCE     3.5   \n",
              "3488   My Airtel-Online Recharge, Pay Bill, Wallet, UPI  PRODUCTIVITY     4.3   \n",
              "7090                     CA Clarity Mobile Time Manager      BUSINESS     3.1   \n",
              "10434                                 Talking Husky Dog        FAMILY     4.4   \n",
              "\n",
              "       Reviews  Size     Installs  Type Price Content Rating        Genres  \\\n",
              "8131       876  8.7M   1,000,000+  Free     0       Everyone         Tools   \n",
              "6458       196   27M      10,000+  Free     0       Everyone       Finance   \n",
              "3488   1498393   14M  50,000,000+  Free     0       Everyone  Productivity   \n",
              "7090       104  5.3M      10,000+  Free     0       Everyone      Business   \n",
              "10434    26545   40M   1,000,000+  Free     0       Everyone        Casual   \n",
              "\n",
              "          Last Updated Current Ver Android Ver  \n",
              "8131    August 6, 2018       3.2.3  4.2 and up  \n",
              "6458   August 20, 2017         1.8  4.1 and up  \n",
              "3488    August 2, 2018     4.3.2.0  4.2 and up  \n",
              "7090      May 14, 2015         2.0  2.2 and up  \n",
              "10434    July 20, 2018        2.08  4.1 and up  "
            ]
          },
          "execution_count": 2,
          "metadata": {},
          "output_type": "execute_result"
        }
      ],
      "source": [
        "df = pd.read_csv(\"googleplaystore.csv\")\n",
        "df.sample(5)\n",
        "\n"
      ]
    },
    {
      "cell_type": "code",
      "execution_count": null,
      "metadata": {
        "id": "FoYB-XdpjsU1",
        "outputId": "ffffb530-2146-478f-b8a5-0093ea4a24a9"
      },
      "outputs": [
        {
          "name": "stdout",
          "output_type": "stream",
          "text": [
            "<class 'pandas.core.frame.DataFrame'>\n",
            "RangeIndex: 10841 entries, 0 to 10840\n",
            "Data columns (total 13 columns):\n",
            " #   Column          Non-Null Count  Dtype  \n",
            "---  ------          --------------  -----  \n",
            " 0   App             10841 non-null  object \n",
            " 1   Category        10841 non-null  object \n",
            " 2   Rating          9367 non-null   float64\n",
            " 3   Reviews         10841 non-null  object \n",
            " 4   Size            10841 non-null  object \n",
            " 5   Installs        10841 non-null  object \n",
            " 6   Type            10840 non-null  object \n",
            " 7   Price           10841 non-null  object \n",
            " 8   Content Rating  10840 non-null  object \n",
            " 9   Genres          10841 non-null  object \n",
            " 10  Last Updated    10841 non-null  object \n",
            " 11  Current Ver     10833 non-null  object \n",
            " 12  Android Ver     10838 non-null  object \n",
            "dtypes: float64(1), object(12)\n",
            "memory usage: 1.1+ MB\n"
          ]
        }
      ],
      "source": [
        "df.info()"
      ]
    },
    {
      "cell_type": "markdown",
      "source": [
        "> ## Data Preparation"
      ],
      "metadata": {
        "id": "an0WbhePqIbW"
      }
    },
    {
      "cell_type": "code",
      "execution_count": null,
      "metadata": {
        "id": "cTq6N0lkjsU1",
        "outputId": "870448b7-46a1-453e-9d59-bf2e55add50d"
      },
      "outputs": [
        {
          "data": {
            "text/plain": [
              "App                  0\n",
              "Category             0\n",
              "Rating            1474\n",
              "Reviews              0\n",
              "Size                 0\n",
              "Installs             0\n",
              "Type                 1\n",
              "Price                0\n",
              "Content Rating       1\n",
              "Genres               0\n",
              "Last Updated         0\n",
              "Current Ver          8\n",
              "Android Ver          3\n",
              "dtype: int64"
            ]
          },
          "execution_count": 4,
          "metadata": {},
          "output_type": "execute_result"
        }
      ],
      "source": [
        "#Check for missing values\n",
        "df.isna().sum()"
      ]
    },
    {
      "cell_type": "code",
      "execution_count": null,
      "metadata": {
        "id": "fulbe_d_jsU1",
        "outputId": "d4bfff4a-35c5-49fe-8b9e-de80dadc7a38"
      },
      "outputs": [
        {
          "data": {
            "text/plain": [
              "483"
            ]
          },
          "execution_count": 5,
          "metadata": {},
          "output_type": "execute_result"
        }
      ],
      "source": [
        "# Check if there is duplicate data\n",
        "df.duplicated().sum()"
      ]
    },
    {
      "cell_type": "code",
      "execution_count": null,
      "metadata": {
        "id": "NpOpQ9PXjsU1",
        "outputId": "02365a9c-3844-4fe3-8dd6-3dd16f0a4061"
      },
      "outputs": [
        {
          "data": {
            "text/html": [
              "<div>\n",
              "<style scoped>\n",
              "    .dataframe tbody tr th:only-of-type {\n",
              "        vertical-align: middle;\n",
              "    }\n",
              "\n",
              "    .dataframe tbody tr th {\n",
              "        vertical-align: top;\n",
              "    }\n",
              "\n",
              "    .dataframe thead th {\n",
              "        text-align: right;\n",
              "    }\n",
              "</style>\n",
              "<table border=\"1\" class=\"dataframe\">\n",
              "  <thead>\n",
              "    <tr style=\"text-align: right;\">\n",
              "      <th></th>\n",
              "      <th>App</th>\n",
              "      <th>Category</th>\n",
              "      <th>Rating</th>\n",
              "      <th>Reviews</th>\n",
              "      <th>Size</th>\n",
              "      <th>Installs</th>\n",
              "      <th>Type</th>\n",
              "      <th>Price</th>\n",
              "      <th>Content Rating</th>\n",
              "      <th>Genres</th>\n",
              "      <th>Last Updated</th>\n",
              "      <th>Current Ver</th>\n",
              "      <th>Android Ver</th>\n",
              "    </tr>\n",
              "  </thead>\n",
              "  <tbody>\n",
              "    <tr>\n",
              "      <th>10088</th>\n",
              "      <td>EY India CFO Insights</td>\n",
              "      <td>BUSINESS</td>\n",
              "      <td>4.7</td>\n",
              "      <td>37</td>\n",
              "      <td>10M</td>\n",
              "      <td>5,000+</td>\n",
              "      <td>Free</td>\n",
              "      <td>0</td>\n",
              "      <td>Everyone</td>\n",
              "      <td>Business</td>\n",
              "      <td>June 29, 2018</td>\n",
              "      <td>1.5</td>\n",
              "      <td>4.1 and up</td>\n",
              "    </tr>\n",
              "  </tbody>\n",
              "</table>\n",
              "</div>"
            ],
            "text/plain": [
              "                         App  Category  Rating Reviews Size Installs  Type  \\\n",
              "10088  EY India CFO Insights  BUSINESS     4.7      37  10M   5,000+  Free   \n",
              "\n",
              "      Price Content Rating    Genres   Last Updated Current Ver Android Ver  \n",
              "10088     0       Everyone  Business  June 29, 2018         1.5  4.1 and up  "
            ]
          },
          "execution_count": 6,
          "metadata": {},
          "output_type": "execute_result"
        }
      ],
      "source": [
        "df.drop_duplicates().sample()\n"
      ]
    },
    {
      "cell_type": "code",
      "execution_count": null,
      "metadata": {
        "id": "GeuoCMlMjsU1",
        "outputId": "d6f9dd9a-cbac-4421-ae71-184765913947"
      },
      "outputs": [
        {
          "data": {
            "text/html": [
              "<div>\n",
              "<style scoped>\n",
              "    .dataframe tbody tr th:only-of-type {\n",
              "        vertical-align: middle;\n",
              "    }\n",
              "\n",
              "    .dataframe tbody tr th {\n",
              "        vertical-align: top;\n",
              "    }\n",
              "\n",
              "    .dataframe thead th {\n",
              "        text-align: right;\n",
              "    }\n",
              "</style>\n",
              "<table border=\"1\" class=\"dataframe\">\n",
              "  <thead>\n",
              "    <tr style=\"text-align: right;\">\n",
              "      <th></th>\n",
              "      <th>App</th>\n",
              "      <th>Category</th>\n",
              "      <th>Rating</th>\n",
              "      <th>Reviews</th>\n",
              "      <th>Size</th>\n",
              "      <th>Installs</th>\n",
              "      <th>Type</th>\n",
              "      <th>Price</th>\n",
              "      <th>Content Rating</th>\n",
              "      <th>Genres</th>\n",
              "      <th>Last Updated</th>\n",
              "      <th>Current Ver</th>\n",
              "      <th>Android Ver</th>\n",
              "    </tr>\n",
              "  </thead>\n",
              "  <tbody>\n",
              "    <tr>\n",
              "      <th>5202</th>\n",
              "      <td>Picai - Smart AI Camera</td>\n",
              "      <td>PHOTOGRAPHY</td>\n",
              "      <td>4.0</td>\n",
              "      <td>529</td>\n",
              "      <td>Varies with device</td>\n",
              "      <td>100,000+</td>\n",
              "      <td>Free</td>\n",
              "      <td>0</td>\n",
              "      <td>Everyone</td>\n",
              "      <td>Photography</td>\n",
              "      <td>July 17, 2018</td>\n",
              "      <td>1.2.3</td>\n",
              "      <td>6.0 and up</td>\n",
              "    </tr>\n",
              "  </tbody>\n",
              "</table>\n",
              "</div>"
            ],
            "text/plain": [
              "                          App     Category  Rating Reviews  \\\n",
              "5202  Picai - Smart AI Camera  PHOTOGRAPHY     4.0     529   \n",
              "\n",
              "                    Size  Installs  Type Price Content Rating       Genres  \\\n",
              "5202  Varies with device  100,000+  Free     0       Everyone  Photography   \n",
              "\n",
              "       Last Updated Current Ver Android Ver  \n",
              "5202  July 17, 2018       1.2.3  6.0 and up  "
            ]
          },
          "execution_count": 7,
          "metadata": {},
          "output_type": "execute_result"
        }
      ],
      "source": [
        "# Check the sample app name to make sure\n",
        "df.query(\"App == 'Picai - Smart AI Camera'\")"
      ]
    },
    {
      "cell_type": "markdown",
      "metadata": {
        "id": "HlIq9O2RjsU1"
      },
      "source": [
        "#### This app is considered a duplicate where there is only 1 app with this name.\n"
      ]
    },
    {
      "cell_type": "code",
      "execution_count": null,
      "metadata": {
        "id": "wYerd6AtjsU1",
        "outputId": "21c256b8-db97-4ceb-f941-c6cc72912980"
      },
      "outputs": [
        {
          "data": {
            "text/html": [
              "<div>\n",
              "<style scoped>\n",
              "    .dataframe tbody tr th:only-of-type {\n",
              "        vertical-align: middle;\n",
              "    }\n",
              "\n",
              "    .dataframe tbody tr th {\n",
              "        vertical-align: top;\n",
              "    }\n",
              "\n",
              "    .dataframe thead th {\n",
              "        text-align: right;\n",
              "    }\n",
              "</style>\n",
              "<table border=\"1\" class=\"dataframe\">\n",
              "  <thead>\n",
              "    <tr style=\"text-align: right;\">\n",
              "      <th></th>\n",
              "      <th>App</th>\n",
              "      <th>Category</th>\n",
              "      <th>Rating</th>\n",
              "      <th>Reviews</th>\n",
              "      <th>Size</th>\n",
              "      <th>Installs</th>\n",
              "      <th>Type</th>\n",
              "      <th>Price</th>\n",
              "      <th>Content Rating</th>\n",
              "      <th>Genres</th>\n",
              "      <th>Last Updated</th>\n",
              "      <th>Current Ver</th>\n",
              "      <th>Android Ver</th>\n",
              "    </tr>\n",
              "  </thead>\n",
              "  <tbody>\n",
              "    <tr>\n",
              "      <th>3670</th>\n",
              "      <td>Motorola FM Radio</td>\n",
              "      <td>VIDEO_PLAYERS</td>\n",
              "      <td>3.9</td>\n",
              "      <td>54807</td>\n",
              "      <td>Varies with device</td>\n",
              "      <td>100,000,000+</td>\n",
              "      <td>Free</td>\n",
              "      <td>0</td>\n",
              "      <td>Everyone</td>\n",
              "      <td>Video Players &amp; Editors</td>\n",
              "      <td>May 2, 2018</td>\n",
              "      <td>Varies with device</td>\n",
              "      <td>Varies with device</td>\n",
              "    </tr>\n",
              "    <tr>\n",
              "      <th>10647</th>\n",
              "      <td>Motorola FM Radio</td>\n",
              "      <td>VIDEO_PLAYERS</td>\n",
              "      <td>3.9</td>\n",
              "      <td>54815</td>\n",
              "      <td>Varies with device</td>\n",
              "      <td>100,000,000+</td>\n",
              "      <td>Free</td>\n",
              "      <td>0</td>\n",
              "      <td>Everyone</td>\n",
              "      <td>Video Players &amp; Editors</td>\n",
              "      <td>May 2, 2018</td>\n",
              "      <td>Varies with device</td>\n",
              "      <td>Varies with device</td>\n",
              "    </tr>\n",
              "  </tbody>\n",
              "</table>\n",
              "</div>"
            ],
            "text/plain": [
              "                     App       Category  Rating Reviews                Size  \\\n",
              "3670   Motorola FM Radio  VIDEO_PLAYERS     3.9   54807  Varies with device   \n",
              "10647  Motorola FM Radio  VIDEO_PLAYERS     3.9   54815  Varies with device   \n",
              "\n",
              "           Installs  Type Price Content Rating                   Genres  \\\n",
              "3670   100,000,000+  Free     0       Everyone  Video Players & Editors   \n",
              "10647  100,000,000+  Free     0       Everyone  Video Players & Editors   \n",
              "\n",
              "      Last Updated         Current Ver         Android Ver  \n",
              "3670   May 2, 2018  Varies with device  Varies with device  \n",
              "10647  May 2, 2018  Varies with device  Varies with device  "
            ]
          },
          "execution_count": 8,
          "metadata": {},
          "output_type": "execute_result"
        }
      ],
      "source": [
        "# Trying a different app\n",
        "df.query(\"App == 'Motorola FM Radio'\")"
      ]
    },
    {
      "cell_type": "markdown",
      "metadata": {
        "id": "kCFir4MVjsU1"
      },
      "source": [
        "Interesting, This app has 2 rows with similar values except the [Reviews] column.\n"
      ]
    },
    {
      "cell_type": "code",
      "execution_count": null,
      "metadata": {
        "id": "viHC-CEOjsU1",
        "outputId": "1f00a542-1d06-402f-8302-5344a92d5e48"
      },
      "outputs": [
        {
          "data": {
            "text/plain": [
              "array(['ART_AND_DESIGN', 'AUTO_AND_VEHICLES', 'BEAUTY',\n",
              "       'BOOKS_AND_REFERENCE', 'BUSINESS', 'COMICS', 'COMMUNICATION',\n",
              "       'DATING', 'EDUCATION', 'ENTERTAINMENT', 'EVENTS', 'FINANCE',\n",
              "       'FOOD_AND_DRINK', 'HEALTH_AND_FITNESS', 'HOUSE_AND_HOME',\n",
              "       'LIBRARIES_AND_DEMO', 'LIFESTYLE', 'GAME', 'FAMILY', 'MEDICAL',\n",
              "       'SOCIAL', 'SHOPPING', 'PHOTOGRAPHY', 'SPORTS', 'TRAVEL_AND_LOCAL',\n",
              "       'TOOLS', 'PERSONALIZATION', 'PRODUCTIVITY', 'PARENTING', 'WEATHER',\n",
              "       'VIDEO_PLAYERS', 'NEWS_AND_MAGAZINES', 'MAPS_AND_NAVIGATION',\n",
              "       '1.9'], dtype=object)"
            ]
          },
          "execution_count": 9,
          "metadata": {},
          "output_type": "execute_result"
        }
      ],
      "source": [
        "df['Category'].unique()\n"
      ]
    },
    {
      "cell_type": "code",
      "execution_count": null,
      "metadata": {
        "id": "vEhM1JM9jsU2",
        "outputId": "1db4df30-5e83-44e9-e7a7-12191d9f29bb"
      },
      "outputs": [
        {
          "data": {
            "text/plain": [
              "Varies with device    1695\n",
              "11M                    198\n",
              "12M                    196\n",
              "14M                    194\n",
              "13M                    191\n",
              "                      ... \n",
              "429k                     1\n",
              "200k                     1\n",
              "460k                     1\n",
              "728k                     1\n",
              "619k                     1\n",
              "Name: Size, Length: 462, dtype: int64"
            ]
          },
          "execution_count": 10,
          "metadata": {},
          "output_type": "execute_result"
        }
      ],
      "source": [
        "df['Size'].value_counts()\n"
      ]
    },
    {
      "cell_type": "code",
      "execution_count": null,
      "metadata": {
        "id": "rucF-UykjsU2",
        "outputId": "0e9cde40-fb93-4964-a40c-5ca3ab624959"
      },
      "outputs": [
        {
          "data": {
            "text/plain": [
              "1,000,000+     1579\n",
              "10,000,000+    1252\n",
              "100,000+       1169\n",
              "10,000+        1054\n",
              "1,000+          907\n",
              "Name: Installs, dtype: int64"
            ]
          },
          "execution_count": 11,
          "metadata": {},
          "output_type": "execute_result"
        }
      ],
      "source": [
        "df['Installs'].value_counts().nlargest(5)\n"
      ]
    },
    {
      "cell_type": "markdown",
      "metadata": {
        "id": "i9a_H_dejsU2"
      },
      "source": [
        "#### Data Quality issues:\n",
        "\n",
        "- There is missing values in the data.\n",
        "- [Rating , Reviews , Last updated] columns has the wrong type.\n",
        "- There some apps (rows) that seems to be duplicate, but some values in some columns are different.\n",
        "- Convert [ Size ] column to mb.\n",
        "- [Size , price] columns has some characters in their values.\n"
      ]
    },
    {
      "cell_type": "markdown",
      "metadata": {
        "id": "3b7SOSeijsU2"
      },
      "source": [
        "#### Data Cleansing\n",
        "\n",
        "- All apps which has missing values in Ratings will be removed.\n",
        "- Remove duplicate apps that has the same name.\n",
        "- Fix the types of [Rating , Reviews] columns from object to int.\n",
        "- Remove columns that are not needed."
      ]
    },
    {
      "cell_type": "code",
      "execution_count": null,
      "metadata": {
        "id": "dxoMcux9jsU2",
        "outputId": "fdb11911-63a2-4927-d444-aa83547fb829"
      },
      "outputs": [
        {
          "name": "stdout",
          "output_type": "stream",
          "text": [
            "<class 'pandas.core.frame.DataFrame'>\n",
            "Int64Index: 9366 entries, 0 to 10840\n",
            "Data columns (total 13 columns):\n",
            " #   Column          Non-Null Count  Dtype  \n",
            "---  ------          --------------  -----  \n",
            " 0   App             9366 non-null   object \n",
            " 1   Category        9366 non-null   object \n",
            " 2   Rating          9366 non-null   float64\n",
            " 3   Reviews         9366 non-null   object \n",
            " 4   Size            9366 non-null   object \n",
            " 5   Installs        9366 non-null   object \n",
            " 6   Type            9366 non-null   object \n",
            " 7   Price           9366 non-null   object \n",
            " 8   Content Rating  9366 non-null   object \n",
            " 9   Genres          9366 non-null   object \n",
            " 10  Last Updated    9366 non-null   object \n",
            " 11  Current Ver     9362 non-null   object \n",
            " 12  Android Ver     9364 non-null   object \n",
            "dtypes: float64(1), object(12)\n",
            "memory usage: 1.0+ MB\n"
          ]
        }
      ],
      "source": [
        "# Drop rows with missing values\n",
        "df.dropna(subset=['Rating' , 'Content Rating'] , inplace=True)\n",
        "\n",
        "# Test\n",
        "df.info()"
      ]
    },
    {
      "cell_type": "code",
      "execution_count": null,
      "metadata": {
        "id": "3dVPmqsojsU2",
        "outputId": "9cb6c8e8-6247-4824-b848-a6c638dd1759"
      },
      "outputs": [
        {
          "data": {
            "text/plain": [
              "(8196, 13)"
            ]
          },
          "execution_count": 13,
          "metadata": {},
          "output_type": "execute_result"
        }
      ],
      "source": [
        "#Remove duplicate apps that has the same name\n",
        "df.drop_duplicates(subset='App' , inplace=True)\n",
        "\n",
        "# Test\n",
        "df.shape"
      ]
    },
    {
      "cell_type": "markdown",
      "metadata": {
        "id": "nQ18gwiAjsU2"
      },
      "source": [
        "#### Fix [Size] column"
      ]
    },
    {
      "cell_type": "code",
      "execution_count": null,
      "metadata": {
        "id": "urBLb8yjjsU2"
      },
      "outputs": [],
      "source": [
        "# Upper case all [Size] column\n",
        "\n",
        "df[\"Size_app\"] = df[\"Size\"].apply(lambda x : x.upper())\n",
        "df[\"Size\"] = df[\"Size_app\"].apply(lambda x : x.upper())\n",
        "\n",
        ""
      ]
    },
    {
      "cell_type": "code",
      "execution_count": null,
      "metadata": {
        "id": "f_Ip8eX1jsU2"
      },
      "outputs": [],
      "source": [
        "# Replace [K , M ] with empty string , and [VARIES WITH DEVICE] with nulls\n",
        "\n",
        "df['Size_app'] = df['Size'].str.replace('K', '').str.replace('M', '').replace('VARIES WITH DEVICE',np.nan)"
      ]
    },
    {
      "cell_type": "code",
      "execution_count": null,
      "metadata": {
        "id": "webqPttHjsU2",
        "outputId": "0acb3340-af5b-4431-acba-ae0d3a21e55f"
      },
      "outputs": [
        {
          "data": {
            "text/html": [
              "<div>\n",
              "<style scoped>\n",
              "    .dataframe tbody tr th:only-of-type {\n",
              "        vertical-align: middle;\n",
              "    }\n",
              "\n",
              "    .dataframe tbody tr th {\n",
              "        vertical-align: top;\n",
              "    }\n",
              "\n",
              "    .dataframe thead th {\n",
              "        text-align: right;\n",
              "    }\n",
              "</style>\n",
              "<table border=\"1\" class=\"dataframe\">\n",
              "  <thead>\n",
              "    <tr style=\"text-align: right;\">\n",
              "      <th></th>\n",
              "      <th>App</th>\n",
              "      <th>Category</th>\n",
              "      <th>Rating</th>\n",
              "      <th>Reviews</th>\n",
              "      <th>Size</th>\n",
              "      <th>Installs</th>\n",
              "      <th>Type</th>\n",
              "      <th>Price</th>\n",
              "      <th>Content Rating</th>\n",
              "      <th>Genres</th>\n",
              "      <th>Last Updated</th>\n",
              "      <th>Current Ver</th>\n",
              "      <th>Android Ver</th>\n",
              "      <th>Size_app</th>\n",
              "    </tr>\n",
              "  </thead>\n",
              "  <tbody>\n",
              "    <tr>\n",
              "      <th>0</th>\n",
              "      <td>Photo Editor &amp; Candy Camera &amp; Grid &amp; ScrapBook</td>\n",
              "      <td>ART_AND_DESIGN</td>\n",
              "      <td>4.1</td>\n",
              "      <td>159</td>\n",
              "      <td>19M</td>\n",
              "      <td>10,000+</td>\n",
              "      <td>Free</td>\n",
              "      <td>0</td>\n",
              "      <td>Everyone</td>\n",
              "      <td>Art &amp; Design</td>\n",
              "      <td>January 7, 2018</td>\n",
              "      <td>1.0.0</td>\n",
              "      <td>4.0.3 and up</td>\n",
              "      <td>19</td>\n",
              "    </tr>\n",
              "    <tr>\n",
              "      <th>1</th>\n",
              "      <td>Coloring book moana</td>\n",
              "      <td>ART_AND_DESIGN</td>\n",
              "      <td>3.9</td>\n",
              "      <td>967</td>\n",
              "      <td>14M</td>\n",
              "      <td>500,000+</td>\n",
              "      <td>Free</td>\n",
              "      <td>0</td>\n",
              "      <td>Everyone</td>\n",
              "      <td>Art &amp; Design;Pretend Play</td>\n",
              "      <td>January 15, 2018</td>\n",
              "      <td>2.0.0</td>\n",
              "      <td>4.0.3 and up</td>\n",
              "      <td>14</td>\n",
              "    </tr>\n",
              "    <tr>\n",
              "      <th>2</th>\n",
              "      <td>U Launcher Lite – FREE Live Cool Themes, Hide ...</td>\n",
              "      <td>ART_AND_DESIGN</td>\n",
              "      <td>4.7</td>\n",
              "      <td>87510</td>\n",
              "      <td>8.7M</td>\n",
              "      <td>5,000,000+</td>\n",
              "      <td>Free</td>\n",
              "      <td>0</td>\n",
              "      <td>Everyone</td>\n",
              "      <td>Art &amp; Design</td>\n",
              "      <td>August 1, 2018</td>\n",
              "      <td>1.2.4</td>\n",
              "      <td>4.0.3 and up</td>\n",
              "      <td>8.7</td>\n",
              "    </tr>\n",
              "    <tr>\n",
              "      <th>3</th>\n",
              "      <td>Sketch - Draw &amp; Paint</td>\n",
              "      <td>ART_AND_DESIGN</td>\n",
              "      <td>4.5</td>\n",
              "      <td>215644</td>\n",
              "      <td>25M</td>\n",
              "      <td>50,000,000+</td>\n",
              "      <td>Free</td>\n",
              "      <td>0</td>\n",
              "      <td>Teen</td>\n",
              "      <td>Art &amp; Design</td>\n",
              "      <td>June 8, 2018</td>\n",
              "      <td>Varies with device</td>\n",
              "      <td>4.2 and up</td>\n",
              "      <td>25</td>\n",
              "    </tr>\n",
              "    <tr>\n",
              "      <th>4</th>\n",
              "      <td>Pixel Draw - Number Art Coloring Book</td>\n",
              "      <td>ART_AND_DESIGN</td>\n",
              "      <td>4.3</td>\n",
              "      <td>967</td>\n",
              "      <td>2.8M</td>\n",
              "      <td>100,000+</td>\n",
              "      <td>Free</td>\n",
              "      <td>0</td>\n",
              "      <td>Everyone</td>\n",
              "      <td>Art &amp; Design;Creativity</td>\n",
              "      <td>June 20, 2018</td>\n",
              "      <td>1.1</td>\n",
              "      <td>4.4 and up</td>\n",
              "      <td>2.8</td>\n",
              "    </tr>\n",
              "  </tbody>\n",
              "</table>\n",
              "</div>"
            ],
            "text/plain": [
              "                                                 App        Category  Rating  \\\n",
              "0     Photo Editor & Candy Camera & Grid & ScrapBook  ART_AND_DESIGN     4.1   \n",
              "1                                Coloring book moana  ART_AND_DESIGN     3.9   \n",
              "2  U Launcher Lite – FREE Live Cool Themes, Hide ...  ART_AND_DESIGN     4.7   \n",
              "3                              Sketch - Draw & Paint  ART_AND_DESIGN     4.5   \n",
              "4              Pixel Draw - Number Art Coloring Book  ART_AND_DESIGN     4.3   \n",
              "\n",
              "  Reviews  Size     Installs  Type Price Content Rating  \\\n",
              "0     159   19M      10,000+  Free     0       Everyone   \n",
              "1     967   14M     500,000+  Free     0       Everyone   \n",
              "2   87510  8.7M   5,000,000+  Free     0       Everyone   \n",
              "3  215644   25M  50,000,000+  Free     0           Teen   \n",
              "4     967  2.8M     100,000+  Free     0       Everyone   \n",
              "\n",
              "                      Genres      Last Updated         Current Ver  \\\n",
              "0               Art & Design   January 7, 2018               1.0.0   \n",
              "1  Art & Design;Pretend Play  January 15, 2018               2.0.0   \n",
              "2               Art & Design    August 1, 2018               1.2.4   \n",
              "3               Art & Design      June 8, 2018  Varies with device   \n",
              "4    Art & Design;Creativity     June 20, 2018                 1.1   \n",
              "\n",
              "    Android Ver Size_app  \n",
              "0  4.0.3 and up       19  \n",
              "1  4.0.3 and up       14  \n",
              "2  4.0.3 and up      8.7  \n",
              "3    4.2 and up       25  \n",
              "4    4.4 and up      2.8  "
            ]
          },
          "execution_count": 16,
          "metadata": {},
          "output_type": "execute_result"
        }
      ],
      "source": [
        "df.head(5)"
      ]
    },
    {
      "cell_type": "code",
      "execution_count": null,
      "metadata": {
        "id": "ZjLMCkC4jsU2"
      },
      "outputs": [],
      "source": [
        "# Convert [Size_app] to numerical\n",
        "df['Size_app'] = pd.to_numeric(df['Size_app'])\n",
        "\n",
        "# divide the Kilobytes by 1000 to convert it mb\n",
        "df['Size_app'] = np.where(df['Size'].str.contains('K'), df['Size_app'] / 1000, df['Size_app'])\n"
      ]
    },
    {
      "cell_type": "code",
      "execution_count": null,
      "metadata": {
        "id": "SEDav5APjsU2",
        "outputId": "8546422f-f0ae-4b11-dfb4-0b313400274a"
      },
      "outputs": [
        {
          "data": {
            "text/html": [
              "<div>\n",
              "<style scoped>\n",
              "    .dataframe tbody tr th:only-of-type {\n",
              "        vertical-align: middle;\n",
              "    }\n",
              "\n",
              "    .dataframe tbody tr th {\n",
              "        vertical-align: top;\n",
              "    }\n",
              "\n",
              "    .dataframe thead th {\n",
              "        text-align: right;\n",
              "    }\n",
              "</style>\n",
              "<table border=\"1\" class=\"dataframe\">\n",
              "  <thead>\n",
              "    <tr style=\"text-align: right;\">\n",
              "      <th></th>\n",
              "      <th>App</th>\n",
              "      <th>Category</th>\n",
              "      <th>Rating</th>\n",
              "      <th>Reviews</th>\n",
              "      <th>Size</th>\n",
              "      <th>Installs</th>\n",
              "      <th>Type</th>\n",
              "      <th>Price</th>\n",
              "      <th>Content Rating</th>\n",
              "      <th>Genres</th>\n",
              "      <th>Last Updated</th>\n",
              "      <th>Current Ver</th>\n",
              "      <th>Android Ver</th>\n",
              "      <th>Size_app</th>\n",
              "    </tr>\n",
              "  </thead>\n",
              "  <tbody>\n",
              "    <tr>\n",
              "      <th>3155</th>\n",
              "      <td>TravelPirates</td>\n",
              "      <td>TRAVEL_AND_LOCAL</td>\n",
              "      <td>4.8</td>\n",
              "      <td>43054</td>\n",
              "      <td>VARIES WITH DEVICE</td>\n",
              "      <td>1,000,000+</td>\n",
              "      <td>Free</td>\n",
              "      <td>0</td>\n",
              "      <td>Everyone</td>\n",
              "      <td>Travel &amp; Local</td>\n",
              "      <td>August 6, 2018</td>\n",
              "      <td>Varies with device</td>\n",
              "      <td>Varies with device</td>\n",
              "      <td>NaN</td>\n",
              "    </tr>\n",
              "    <tr>\n",
              "      <th>3595</th>\n",
              "      <td>Kids Craft Ideas</td>\n",
              "      <td>PARENTING</td>\n",
              "      <td>4.1</td>\n",
              "      <td>99</td>\n",
              "      <td>6.6M</td>\n",
              "      <td>10,000+</td>\n",
              "      <td>Free</td>\n",
              "      <td>0</td>\n",
              "      <td>Everyone</td>\n",
              "      <td>Parenting</td>\n",
              "      <td>March 29, 2018</td>\n",
              "      <td>1.1</td>\n",
              "      <td>4.1 and up</td>\n",
              "      <td>6.6</td>\n",
              "    </tr>\n",
              "    <tr>\n",
              "      <th>6027</th>\n",
              "      <td>BD Online Passport Application</td>\n",
              "      <td>FAMILY</td>\n",
              "      <td>4.6</td>\n",
              "      <td>12</td>\n",
              "      <td>2.4M</td>\n",
              "      <td>5,000+</td>\n",
              "      <td>Free</td>\n",
              "      <td>0</td>\n",
              "      <td>Everyone</td>\n",
              "      <td>Education</td>\n",
              "      <td>October 7, 2017</td>\n",
              "      <td>3.0</td>\n",
              "      <td>4.0.3 and up</td>\n",
              "      <td>2.4</td>\n",
              "    </tr>\n",
              "    <tr>\n",
              "      <th>9752</th>\n",
              "      <td>Super Doctor 1-Pregnant Mom ER Surgery Simulator</td>\n",
              "      <td>FAMILY</td>\n",
              "      <td>4.1</td>\n",
              "      <td>290</td>\n",
              "      <td>73M</td>\n",
              "      <td>10,000+</td>\n",
              "      <td>Free</td>\n",
              "      <td>0</td>\n",
              "      <td>Teen</td>\n",
              "      <td>Role Playing</td>\n",
              "      <td>May 23, 2018</td>\n",
              "      <td>1.0</td>\n",
              "      <td>4.3 and up</td>\n",
              "      <td>73.0</td>\n",
              "    </tr>\n",
              "  </tbody>\n",
              "</table>\n",
              "</div>"
            ],
            "text/plain": [
              "                                                   App          Category  \\\n",
              "3155                                     TravelPirates  TRAVEL_AND_LOCAL   \n",
              "3595                                  Kids Craft Ideas         PARENTING   \n",
              "6027                    BD Online Passport Application            FAMILY   \n",
              "9752  Super Doctor 1-Pregnant Mom ER Surgery Simulator            FAMILY   \n",
              "\n",
              "      Rating Reviews                Size    Installs  Type Price  \\\n",
              "3155     4.8   43054  VARIES WITH DEVICE  1,000,000+  Free     0   \n",
              "3595     4.1      99                6.6M     10,000+  Free     0   \n",
              "6027     4.6      12                2.4M      5,000+  Free     0   \n",
              "9752     4.1     290                 73M     10,000+  Free     0   \n",
              "\n",
              "     Content Rating          Genres     Last Updated         Current Ver  \\\n",
              "3155       Everyone  Travel & Local   August 6, 2018  Varies with device   \n",
              "3595       Everyone       Parenting   March 29, 2018                 1.1   \n",
              "6027       Everyone       Education  October 7, 2017                 3.0   \n",
              "9752           Teen    Role Playing     May 23, 2018                 1.0   \n",
              "\n",
              "             Android Ver  Size_app  \n",
              "3155  Varies with device       NaN  \n",
              "3595          4.1 and up       6.6  \n",
              "6027        4.0.3 and up       2.4  \n",
              "9752          4.3 and up      73.0  "
            ]
          },
          "execution_count": 18,
          "metadata": {},
          "output_type": "execute_result"
        }
      ],
      "source": [
        "df.sample(4)"
      ]
    },
    {
      "cell_type": "code",
      "execution_count": null,
      "metadata": {
        "id": "oRiRmeGqjsU3",
        "outputId": "b2d6b166-ca26-4081-99c3-04e31b5e2640"
      },
      "outputs": [
        {
          "name": "stdout",
          "output_type": "stream",
          "text": [
            "<class 'pandas.core.frame.DataFrame'>\n",
            "Int64Index: 8196 entries, 0 to 10840\n",
            "Data columns (total 14 columns):\n",
            " #   Column          Non-Null Count  Dtype  \n",
            "---  ------          --------------  -----  \n",
            " 0   App             8196 non-null   object \n",
            " 1   Category        8196 non-null   object \n",
            " 2   Rating          8196 non-null   float64\n",
            " 3   Reviews         8196 non-null   object \n",
            " 4   Size            8196 non-null   object \n",
            " 5   Installs        8196 non-null   object \n",
            " 6   Type            8196 non-null   object \n",
            " 7   Price           8196 non-null   object \n",
            " 8   Content Rating  8196 non-null   object \n",
            " 9   Genres          8196 non-null   object \n",
            " 10  Last Updated    8196 non-null   object \n",
            " 11  Current Ver     8192 non-null   object \n",
            " 12  Android Ver     8194 non-null   object \n",
            " 13  Size_app        7027 non-null   float64\n",
            "dtypes: float64(2), object(12)\n",
            "memory usage: 960.5+ KB\n"
          ]
        }
      ],
      "source": [
        "df.info()"
      ]
    },
    {
      "cell_type": "markdown",
      "metadata": {
        "id": "wt8vprR8jsU3"
      },
      "source": [
        "#### There are more then 1000 app have varies with device size  "
      ]
    },
    {
      "cell_type": "code",
      "execution_count": null,
      "metadata": {
        "id": "U8EE6MMijsU3"
      },
      "outputs": [],
      "source": [
        "# keeps the apps which has one specific size\n",
        "\n",
        "df_2 = df.query(\"Size_app != 'Nan'\")\n"
      ]
    },
    {
      "cell_type": "markdown",
      "metadata": {
        "id": "mQ3u8lh-jsU3"
      },
      "source": [
        "#### Fix [Price] column"
      ]
    },
    {
      "cell_type": "code",
      "execution_count": null,
      "metadata": {
        "id": "6XNjobqujsU3",
        "outputId": "3a18210a-3c75-4826-e686-607f18c5a30d"
      },
      "outputs": [
        {
          "name": "stderr",
          "output_type": "stream",
          "text": [
            "/var/folders/8p/sdjj88mn6m77hn6jntcc8fkw0000gn/T/ipykernel_6696/2976052092.py:3: FutureWarning: The default value of regex will change from True to False in a future version. In addition, single character regular expressions will *not* be treated as literal strings when regex=True.\n",
            "  df_2['Price'] = df['Price'].str.replace(\"$\", ' ')\n"
          ]
        }
      ],
      "source": [
        "# Replace [ $ ] with empty string\n",
        "\n",
        "df_2['Price'] = df['Price'].str.replace(\"$\", ' ')\n"
      ]
    },
    {
      "cell_type": "code",
      "execution_count": null,
      "metadata": {
        "id": "EyN_faBwjsU3"
      },
      "outputs": [],
      "source": [
        "# Convert [Price] to numerical\n",
        "\n",
        "df_2['Price'] = pd.to_numeric(df_2['Price'])\n"
      ]
    },
    {
      "cell_type": "code",
      "execution_count": null,
      "metadata": {
        "id": "8nFGGCpCjsU3",
        "outputId": "afcc6a6b-277d-4fd2-ac37-a389500a946e"
      },
      "outputs": [
        {
          "name": "stdout",
          "output_type": "stream",
          "text": [
            "<class 'pandas.core.frame.DataFrame'>\n",
            "Int64Index: 8196 entries, 0 to 10840\n",
            "Data columns (total 14 columns):\n",
            " #   Column          Non-Null Count  Dtype  \n",
            "---  ------          --------------  -----  \n",
            " 0   App             8196 non-null   object \n",
            " 1   Category        8196 non-null   object \n",
            " 2   Rating          8196 non-null   float64\n",
            " 3   Reviews         8196 non-null   object \n",
            " 4   Size            8196 non-null   object \n",
            " 5   Installs        8196 non-null   object \n",
            " 6   Type            8196 non-null   object \n",
            " 7   Price           8196 non-null   float64\n",
            " 8   Content Rating  8196 non-null   object \n",
            " 9   Genres          8196 non-null   object \n",
            " 10  Last Updated    8196 non-null   object \n",
            " 11  Current Ver     8192 non-null   object \n",
            " 12  Android Ver     8194 non-null   object \n",
            " 13  Size_app        7027 non-null   float64\n",
            "dtypes: float64(3), object(11)\n",
            "memory usage: 960.5+ KB\n"
          ]
        }
      ],
      "source": [
        "df_2.info()"
      ]
    },
    {
      "cell_type": "code",
      "execution_count": null,
      "metadata": {
        "id": "K-VSxi3fjsU3"
      },
      "outputs": [],
      "source": [
        "col = [\"Android Ver\" , \"Current Ver\" , \"Size\"]\n",
        "\n",
        "df_2 = df_2.drop(col , axis=1 )"
      ]
    },
    {
      "cell_type": "code",
      "execution_count": null,
      "metadata": {
        "id": "X2N9ZIQGjsU3"
      },
      "outputs": [],
      "source": [
        "df_2[\"Reviews\"] = df_2[\"Reviews\"].astype(float)"
      ]
    },
    {
      "cell_type": "markdown",
      "metadata": {
        "id": "eKG4aIkIjsU3"
      },
      "source": [
        "#### Fix [Last updated ] column"
      ]
    },
    {
      "cell_type": "code",
      "execution_count": null,
      "metadata": {
        "id": "Srw7qg8HjsU3"
      },
      "outputs": [],
      "source": [
        "df_2[\"Last Updated\"]=pd.to_datetime(df[\"Last Updated\"])\n",
        "\n",
        "# Create a [year] column\n",
        "df_2['year'] =pd.DatetimeIndex(df_2[\"Last Updated\"]).year"
      ]
    },
    {
      "cell_type": "markdown",
      "metadata": {
        "id": "yXUeX3aHjsU3"
      },
      "source": [
        "#### Fix [Installs] column"
      ]
    },
    {
      "cell_type": "code",
      "execution_count": null,
      "metadata": {
        "id": "EHSarpmEjsU3",
        "outputId": "e863c445-a195-4e84-92d2-e55694ee69d7"
      },
      "outputs": [
        {
          "name": "stderr",
          "output_type": "stream",
          "text": [
            "/var/folders/8p/sdjj88mn6m77hn6jntcc8fkw0000gn/T/ipykernel_6696/790675551.py:1: FutureWarning: The default value of regex will change from True to False in a future version. In addition, single character regular expressions will *not* be treated as literal strings when regex=True.\n",
            "  df_2[\"Installs\"] = df_2[\"Installs\"].str.replace('+', '').str.replace(',', '')\n"
          ]
        },
        {
          "data": {
            "text/html": [
              "<div>\n",
              "<style scoped>\n",
              "    .dataframe tbody tr th:only-of-type {\n",
              "        vertical-align: middle;\n",
              "    }\n",
              "\n",
              "    .dataframe tbody tr th {\n",
              "        vertical-align: top;\n",
              "    }\n",
              "\n",
              "    .dataframe thead th {\n",
              "        text-align: right;\n",
              "    }\n",
              "</style>\n",
              "<table border=\"1\" class=\"dataframe\">\n",
              "  <thead>\n",
              "    <tr style=\"text-align: right;\">\n",
              "      <th></th>\n",
              "      <th>App</th>\n",
              "      <th>Category</th>\n",
              "      <th>Rating</th>\n",
              "      <th>Reviews</th>\n",
              "      <th>Installs</th>\n",
              "      <th>Type</th>\n",
              "      <th>Price</th>\n",
              "      <th>Content Rating</th>\n",
              "      <th>Genres</th>\n",
              "      <th>Last Updated</th>\n",
              "      <th>Size_app</th>\n",
              "      <th>year</th>\n",
              "    </tr>\n",
              "  </thead>\n",
              "  <tbody>\n",
              "    <tr>\n",
              "      <th>8904</th>\n",
              "      <td>Caller ID &amp; Call Block - DU Caller</td>\n",
              "      <td>COMMUNICATION</td>\n",
              "      <td>4.6</td>\n",
              "      <td>93930.0</td>\n",
              "      <td>5000000</td>\n",
              "      <td>Free</td>\n",
              "      <td>0.0</td>\n",
              "      <td>Everyone</td>\n",
              "      <td>Communication</td>\n",
              "      <td>2018-08-01</td>\n",
              "      <td>14.0</td>\n",
              "      <td>2018</td>\n",
              "    </tr>\n",
              "  </tbody>\n",
              "</table>\n",
              "</div>"
            ],
            "text/plain": [
              "                                     App       Category  Rating  Reviews  \\\n",
              "8904  Caller ID & Call Block - DU Caller  COMMUNICATION     4.6  93930.0   \n",
              "\n",
              "      Installs  Type  Price Content Rating         Genres Last Updated  \\\n",
              "8904   5000000  Free    0.0       Everyone  Communication   2018-08-01   \n",
              "\n",
              "      Size_app  year  \n",
              "8904      14.0  2018  "
            ]
          },
          "execution_count": 27,
          "metadata": {},
          "output_type": "execute_result"
        }
      ],
      "source": [
        "df_2[\"Installs\"] = df_2[\"Installs\"].str.replace('+', '').str.replace(',', '')\n",
        "\n",
        "df_2[\"Installs\"] = pd.to_numeric(df_2[\"Installs\"])\n",
        "\n",
        "\n",
        "df_2.sample()"
      ]
    },
    {
      "cell_type": "code",
      "execution_count": null,
      "metadata": {
        "id": "L8DryblYjsVD"
      },
      "outputs": [],
      "source": [
        "df_clean = df_2"
      ]
    },
    {
      "cell_type": "code",
      "execution_count": null,
      "metadata": {
        "id": "VAcK2CR1jsVD",
        "outputId": "187c423b-bb5c-4b76-a0fb-2b707de1a04b"
      },
      "outputs": [
        {
          "data": {
            "text/html": [
              "<div>\n",
              "<style scoped>\n",
              "    .dataframe tbody tr th:only-of-type {\n",
              "        vertical-align: middle;\n",
              "    }\n",
              "\n",
              "    .dataframe tbody tr th {\n",
              "        vertical-align: top;\n",
              "    }\n",
              "\n",
              "    .dataframe thead th {\n",
              "        text-align: right;\n",
              "    }\n",
              "</style>\n",
              "<table border=\"1\" class=\"dataframe\">\n",
              "  <thead>\n",
              "    <tr style=\"text-align: right;\">\n",
              "      <th></th>\n",
              "      <th>Rating</th>\n",
              "      <th>Reviews</th>\n",
              "      <th>Installs</th>\n",
              "      <th>Price</th>\n",
              "      <th>Size_app</th>\n",
              "      <th>year</th>\n",
              "    </tr>\n",
              "  </thead>\n",
              "  <tbody>\n",
              "    <tr>\n",
              "      <th>count</th>\n",
              "      <td>8196.000000</td>\n",
              "      <td>8.196000e+03</td>\n",
              "      <td>8.196000e+03</td>\n",
              "      <td>8196.000000</td>\n",
              "      <td>7027.000000</td>\n",
              "      <td>8196.000000</td>\n",
              "    </tr>\n",
              "    <tr>\n",
              "      <th>mean</th>\n",
              "      <td>4.173243</td>\n",
              "      <td>2.552515e+05</td>\n",
              "      <td>9.165090e+06</td>\n",
              "      <td>1.037884</td>\n",
              "      <td>21.754427</td>\n",
              "      <td>2017.358956</td>\n",
              "    </tr>\n",
              "    <tr>\n",
              "      <th>std</th>\n",
              "      <td>0.536625</td>\n",
              "      <td>1.985594e+06</td>\n",
              "      <td>5.825087e+07</td>\n",
              "      <td>16.857882</td>\n",
              "      <td>22.726503</td>\n",
              "      <td>1.146922</td>\n",
              "    </tr>\n",
              "    <tr>\n",
              "      <th>min</th>\n",
              "      <td>1.000000</td>\n",
              "      <td>1.000000e+00</td>\n",
              "      <td>1.000000e+00</td>\n",
              "      <td>0.000000</td>\n",
              "      <td>0.008500</td>\n",
              "      <td>2010.000000</td>\n",
              "    </tr>\n",
              "    <tr>\n",
              "      <th>25%</th>\n",
              "      <td>4.000000</td>\n",
              "      <td>1.260000e+02</td>\n",
              "      <td>1.000000e+04</td>\n",
              "      <td>0.000000</td>\n",
              "      <td>4.900000</td>\n",
              "      <td>2017.000000</td>\n",
              "    </tr>\n",
              "    <tr>\n",
              "      <th>50%</th>\n",
              "      <td>4.300000</td>\n",
              "      <td>3.004000e+03</td>\n",
              "      <td>1.000000e+05</td>\n",
              "      <td>0.000000</td>\n",
              "      <td>13.000000</td>\n",
              "      <td>2018.000000</td>\n",
              "    </tr>\n",
              "    <tr>\n",
              "      <th>75%</th>\n",
              "      <td>4.500000</td>\n",
              "      <td>4.381300e+04</td>\n",
              "      <td>1.000000e+06</td>\n",
              "      <td>0.000000</td>\n",
              "      <td>31.000000</td>\n",
              "      <td>2018.000000</td>\n",
              "    </tr>\n",
              "    <tr>\n",
              "      <th>max</th>\n",
              "      <td>5.000000</td>\n",
              "      <td>7.815831e+07</td>\n",
              "      <td>1.000000e+09</td>\n",
              "      <td>400.000000</td>\n",
              "      <td>100.000000</td>\n",
              "      <td>2018.000000</td>\n",
              "    </tr>\n",
              "  </tbody>\n",
              "</table>\n",
              "</div>"
            ],
            "text/plain": [
              "            Rating       Reviews      Installs        Price     Size_app  \\\n",
              "count  8196.000000  8.196000e+03  8.196000e+03  8196.000000  7027.000000   \n",
              "mean      4.173243  2.552515e+05  9.165090e+06     1.037884    21.754427   \n",
              "std       0.536625  1.985594e+06  5.825087e+07    16.857882    22.726503   \n",
              "min       1.000000  1.000000e+00  1.000000e+00     0.000000     0.008500   \n",
              "25%       4.000000  1.260000e+02  1.000000e+04     0.000000     4.900000   \n",
              "50%       4.300000  3.004000e+03  1.000000e+05     0.000000    13.000000   \n",
              "75%       4.500000  4.381300e+04  1.000000e+06     0.000000    31.000000   \n",
              "max       5.000000  7.815831e+07  1.000000e+09   400.000000   100.000000   \n",
              "\n",
              "              year  \n",
              "count  8196.000000  \n",
              "mean   2017.358956  \n",
              "std       1.146922  \n",
              "min    2010.000000  \n",
              "25%    2017.000000  \n",
              "50%    2018.000000  \n",
              "75%    2018.000000  \n",
              "max    2018.000000  "
            ]
          },
          "execution_count": 29,
          "metadata": {},
          "output_type": "execute_result"
        }
      ],
      "source": [
        "df_clean.describe()"
      ]
    },
    {
      "cell_type": "markdown",
      "source": [
        "> ## Evaluating Results"
      ],
      "metadata": {
        "id": "UBCxJ9dTqf5d"
      }
    },
    {
      "cell_type": "markdown",
      "metadata": {
        "id": "wAZ20iddjsVF"
      },
      "source": [
        "## Apps category distribution"
      ]
    },
    {
      "cell_type": "code",
      "execution_count": null,
      "metadata": {
        "id": "wBA2sYARjsVF",
        "outputId": "a2f6c5ac-d930-4047-e637-a1a73a1e3524"
      },
      "outputs": [
        {
          "data": {
            "image/png": "[encoded data removed]",
            "text/plain": [
              "<Figure size 1296x576 with 1 Axes>"
            ]
          },
          "metadata": {
            "needs_background": "light"
          },
          "output_type": "display_data"
        }
      ],
      "source": [
        "# Apps Category\n",
        "\n",
        "\n",
        "plt.figure(figsize=(18, 8))\n",
        "\n",
        "fig = sns.histplot(x=df_clean['Category'], color='navy')\n",
        "\n",
        "plt.title(\"Apps Category\")\n",
        "plt.xticks(rotation=80 )\n",
        "\n",
        "plt.show()"
      ]
    },
    {
      "cell_type": "markdown",
      "metadata": {
        "id": "oAMVvIcFjsVF"
      },
      "source": [
        "> #### Family apps are the most categorized and game seconds."
      ]
    },
    {
      "cell_type": "markdown",
      "metadata": {
        "id": "6FVeZAfDjsVG"
      },
      "source": [
        "## What is the most category get installs?"
      ]
    },
    {
      "cell_type": "code",
      "execution_count": null,
      "metadata": {
        "id": "TS3v-5Q-jsVG",
        "outputId": "951b86b3-69aa-4749-f43f-85cbb516904f"
      },
      "outputs": [
        {
          "data": {
            "text/plain": [
              "Text(0.5, 1.0, 'Pie chart to view apps categories that get most installs')"
            ]
          },
          "execution_count": 89,
          "metadata": {},
          "output_type": "execute_result"
        },
        {
          "data": {
            "image/png": "[encoded data removed]",
            "text/plain": [
              "<Figure size 648x648 with 1 Axes>"
            ]
          },
          "metadata": {},
          "output_type": "display_data"
        }
      ],
      "source": [
        "\n",
        "\n",
        "fig, ax = plt.subplots(figsize=(9, 9), subplot_kw=dict(aspect=\"equal\"))\n",
        "\n",
        "df_catInst = df_clean.groupby(\"Category\")[\"Installs\"].sum().nlargest(5)\n",
        "\n",
        "plot_pie(df_catInst , \"best\")\n",
        "\n",
        "plt.title(\"Pie chart to view apps categories that get most installs\"  )\n",
        "\n"
      ]
    },
    {
      "cell_type": "markdown",
      "metadata": {
        "id": "EObMNsRVjsVG"
      },
      "source": [
        "> #### Games and communication categories are the most to get installs"
      ]
    },
    {
      "cell_type": "markdown",
      "metadata": {
        "id": "xe8KDPg3jsVG"
      },
      "source": [
        "## What Category recived the most ratings?"
      ]
    },
    {
      "cell_type": "code",
      "execution_count": null,
      "metadata": {
        "id": "oQEB2ffUjsVG",
        "outputId": "57b7faff-b064-41d7-cda6-5fe514a67206"
      },
      "outputs": [
        {
          "name": "stderr",
          "output_type": "stream",
          "text": [
            "/Users/alwaleedalattas/opt/anaconda3/lib/python3.9/site-packages/seaborn/_decorators.py:36: FutureWarning: Pass the following variables as keyword args: x, y. From version 0.12, the only valid positional argument will be `data`, and passing other arguments without an explicit keyword will result in an error or misinterpretation.\n",
            "  warnings.warn(\n"
          ]
        },
        {
          "data": {
            "image/png": "[encoded data removed]",
            "text/plain": [
              "<Figure size 1080x360 with 1 Axes>"
            ]
          },
          "metadata": {
            "needs_background": "light"
          },
          "output_type": "display_data"
        }
      ],
      "source": [
        "df_rating_group = df_clean.groupby(\"Category\")[\"Rating\"].sum().nlargest(7)\n",
        "\n",
        "\n",
        "plt.figure(figsize=(15,5))\n",
        "\n",
        "sns.barplot(df_rating_group.index , df_rating_group )\n",
        "\n",
        "plt.ylabel(\"Rating\")\n",
        "plt.xlabel(\"Category\")\n",
        "plt.title(\"Highest Apps Category rating \")\n",
        "\n",
        "\n",
        "plt.show()"
      ]
    },
    {
      "cell_type": "markdown",
      "metadata": {
        "id": "7vV1K9GgjsVG"
      },
      "source": [
        "> #### Family apps are most regards the rating, although communication apps are the second highest category to get installs, they seems to not get high ratings."
      ]
    },
    {
      "cell_type": "code",
      "execution_count": null,
      "metadata": {
        "id": "zGwzuwi3jsVH"
      },
      "outputs": [],
      "source": []
    },
    {
      "cell_type": "markdown",
      "metadata": {
        "id": "RzCCv-KPjsVI"
      },
      "source": [
        "## Are people tend to review more within the years?"
      ]
    },
    {
      "cell_type": "code",
      "execution_count": null,
      "metadata": {
        "id": "7juR5Y2ZjsVI",
        "outputId": "c20cc330-534f-4f9d-bc9d-6497df41fc97"
      },
      "outputs": [
        {
          "data": {
            "image/png": "[encoded data removed]",
            "text/plain": [
              "<Figure size 864x288 with 1 Axes>"
            ]
          },
          "metadata": {
            "needs_background": "light"
          },
          "output_type": "display_data"
        }
      ],
      "source": [
        "plt.figure(figsize=(12,4))\n",
        "sns.lineplot(data=df_clean, x=df_clean[\"year\"], y='Reviews');"
      ]
    },
    {
      "cell_type": "markdown",
      "metadata": {
        "id": "Bnp1UXNOjsVI"
      },
      "source": [
        ">#### Reviews have incresed massively in 2017 and seems to keep increasing within the years"
      ]
    },
    {
      "cell_type": "markdown",
      "metadata": {
        "id": "N4v3JLfhjsVJ"
      },
      "source": [
        "## Find the relation between app size and year"
      ]
    },
    {
      "cell_type": "code",
      "execution_count": null,
      "metadata": {
        "id": "nZOwdiy5jsVJ",
        "outputId": "d1bba6e3-39ad-4f55-e24b-bfb132b4961a"
      },
      "outputs": [
        {
          "data": {
            "image/png": "[encoded data removed]",
            "text/plain": [
              "<Figure size 864x288 with 1 Axes>"
            ]
          },
          "metadata": {
            "needs_background": "light"
          },
          "output_type": "display_data"
        }
      ],
      "source": [
        "plt.figure(figsize=(12,4))\n",
        "sns.lineplot(data=df_clean, x=df_clean[\"year\"], y='Size_app');"
      ]
    },
    {
      "cell_type": "markdown",
      "metadata": {
        "id": "BltG-Z0yjsVJ"
      },
      "source": [
        "> #### As the graph shows, apps sizes is getting bigger every year"
      ]
    },
    {
      "cell_type": "markdown",
      "source": [
        "#### There is no data modelling as I am not using any machine learning methods for the questions I need to answer"
      ],
      "metadata": {
        "id": "pnac-SK_qmrv"
      }
    },
    {
      "cell_type": "code",
      "source": [],
      "metadata": {
        "id": "OdvLi9SQqppq"
      },
      "execution_count": null,
      "outputs": []
    }
  ],
  "metadata": {
    "kernelspec": {
      "display_name": "Python 3",
      "language": "python",
      "name": "python3"
    },
    "language_info": {
      "codemirror_mode": {
        "name": "ipython",
        "version": 3
      },
      "file_extension": ".py",
      "mimetype": "text/x-python",
      "name": "python",
      "nbconvert_exporter": "python",
      "pygments_lexer": "ipython3",
      "version": "3.6.3"
    },
    "colab": {
      "provenance": [],
      "include_colab_link": true
    }
  },
  "nbformat": 4,
  "nbformat_minor": 0
}